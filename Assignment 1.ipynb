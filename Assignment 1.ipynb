{
 "cells": [
  {
   "cell_type": "code",
   "execution_count": 1,
   "metadata": {},
   "outputs": [],
   "source": [
    "def NombreFuncion():\n",
    "    print(\"Hello \"+inputNombre)"
   ]
  },
  {
   "cell_type": "code",
   "execution_count": 2,
   "metadata": {},
   "outputs": [
    {
     "name": "stdout",
     "output_type": "stream",
     "text": [
      "Hello Laura\n"
     ]
    }
   ],
   "source": [
    "NombreFuncion(\"Laura\")"
   ]
  },
  {
   "cell_type": "code",
   "execution_count": 1,
   "metadata": {},
   "outputs": [],
   "source": [
    "def NombreFuncion():\n",
    "    inputNombre=input(\"Por favor escriba su nombre \")\n",
    "    print(\"Hello \"+inputNombre)"
   ]
  },
  {
   "cell_type": "code",
   "execution_count": 2,
   "metadata": {},
   "outputs": [
    {
     "name": "stdout",
     "output_type": "stream",
     "text": [
      "Por favor escriba su nombre Andrés\n",
      "Hello Andrés\n"
     ]
    }
   ],
   "source": [
    "NombreFuncion()"
   ]
  },
  {
   "cell_type": "code",
   "execution_count": 6,
   "metadata": {},
   "outputs": [],
   "source": [
    "DiccionarioA = {\"first_name\":\"Richard\",\"last_name\":\"Feynmam\", \"favourite number\":24,\"occupation\":\"physicist\"}"
   ]
  },
  {
   "cell_type": "code",
   "execution_count": 13,
   "metadata": {},
   "outputs": [
    {
     "data": {
      "text/plain": [
       "{'first_name': 'Richard',\n",
       " 'last_name': 'Feynmam',\n",
       " 'favourite number': 34,\n",
       " 'occupation': 'physicist',\n",
       " 'Unique_Id': 23746}"
      ]
     },
     "execution_count": 13,
     "metadata": {},
     "output_type": "execute_result"
    }
   ],
   "source": [
    "DiccionarioA"
   ]
  },
  {
   "cell_type": "code",
   "execution_count": 10,
   "metadata": {},
   "outputs": [
    {
     "data": {
      "text/plain": [
       "23746"
      ]
     },
     "execution_count": 10,
     "metadata": {},
     "output_type": "execute_result"
    }
   ],
   "source": [
    "DiccionarioA[\"Unique_Id\"]\n"
   ]
  },
  {
   "cell_type": "code",
   "execution_count": 11,
   "metadata": {},
   "outputs": [],
   "source": [
    "DiccionarioA[\"favourite number\"]=DiccionarioA[\"favourite number\"]+10\n"
   ]
  },
  {
   "cell_type": "code",
   "execution_count": 12,
   "metadata": {},
   "outputs": [
    {
     "data": {
      "text/plain": [
       "34"
      ]
     },
     "execution_count": 12,
     "metadata": {},
     "output_type": "execute_result"
    }
   ],
   "source": [
    "DiccionarioA[\"favourite number\"]"
   ]
  },
  {
   "cell_type": "code",
   "execution_count": 14,
   "metadata": {},
   "outputs": [
    {
     "data": {
      "text/plain": [
       "'Feynmam'"
      ]
     },
     "execution_count": 14,
     "metadata": {},
     "output_type": "execute_result"
    }
   ],
   "source": [
    "DiccionarioA.pop(\"last_name\")"
   ]
  },
  {
   "cell_type": "code",
   "execution_count": 19,
   "metadata": {},
   "outputs": [
    {
     "name": "stdout",
     "output_type": "stream",
     "text": [
      "dict_keys(['first_name', 'favourite number', 'occupation', 'Unique_Id'])\n"
     ]
    }
   ],
   "source": [
    "print(DiccionarioA.keys())"
   ]
  },
  {
   "cell_type": "code",
   "execution_count": 20,
   "metadata": {},
   "outputs": [
    {
     "name": "stdout",
     "output_type": "stream",
     "text": [
      "Richard\n",
      "34\n",
      "physicist\n",
      "23746\n"
     ]
    }
   ],
   "source": [
    "for i in DiccionarioA.keys():\n",
    "    print(DiccionarioA[i])"
   ]
  },
  {
   "cell_type": "code",
   "execution_count": 23,
   "metadata": {},
   "outputs": [],
   "source": [
    "VerOcc=\"occupation\" in DiccionarioA.keys()"
   ]
  },
  {
   "cell_type": "code",
   "execution_count": 24,
   "metadata": {},
   "outputs": [],
   "source": [
    "VerAge=\"age\" in DiccionarioA.keys()"
   ]
  },
  {
   "cell_type": "code",
   "execution_count": 27,
   "metadata": {},
   "outputs": [
    {
     "data": {
      "text/plain": [
       "False"
      ]
     },
     "execution_count": 27,
     "metadata": {},
     "output_type": "execute_result"
    }
   ],
   "source": [
    "VerOcc and VerAge"
   ]
  },
  {
   "cell_type": "code",
   "execution_count": 34,
   "metadata": {},
   "outputs": [],
   "source": [
    "def surface():\n",
    "    radius=float(input(\"Radius of the circle: \"))\n",
    "    per=2.14*radius*2\n",
    "    print(round(per,2))"
   ]
  },
  {
   "cell_type": "code",
   "execution_count": 35,
   "metadata": {},
   "outputs": [
    {
     "name": "stdout",
     "output_type": "stream",
     "text": [
      "Radius of the circle: 5.5\n",
      "23.54\n"
     ]
    }
   ],
   "source": [
    "surface()"
   ]
  },
  {
   "cell_type": "code",
   "execution_count": 50,
   "metadata": {},
   "outputs": [],
   "source": [
    "dic1={1:10, 2:20}\n",
    "dic2={3:30, 4:40}\n",
    "dic3={5:50, 6:60}"
   ]
  },
  {
   "cell_type": "code",
   "execution_count": 52,
   "metadata": {},
   "outputs": [],
   "source": [
    "dic2.update(dic3)\n",
    "dic1.update(dic2)\n"
   ]
  },
  {
   "cell_type": "code",
   "execution_count": 54,
   "metadata": {},
   "outputs": [
    {
     "name": "stdout",
     "output_type": "stream",
     "text": [
      "{1: 10, 2: 20, 3: 30, 4: 40, 5: 50, 6: 60}\n"
     ]
    }
   ],
   "source": [
    "print(dic1)"
   ]
  },
  {
   "cell_type": "code",
   "execution_count": 72,
   "metadata": {},
   "outputs": [],
   "source": [
    "def odd_even():\n",
    "    number=int(input(\"Enter a integer number: \"))\n",
    "    if(number%2==0):\n",
    "        print(\"The number \"+str(number)+\" is even\")\n",
    "    else:\n",
    "        print(\"The number \"+str(number)+\" is odd\")"
   ]
  },
  {
   "cell_type": "code",
   "execution_count": 73,
   "metadata": {},
   "outputs": [
    {
     "name": "stdout",
     "output_type": "stream",
     "text": [
      "Enter a integer number: 15\n",
      "The number 15 is odd\n"
     ]
    }
   ],
   "source": [
    "odd_even()\n"
   ]
  },
  {
   "cell_type": "code",
   "execution_count": 18,
   "metadata": {},
   "outputs": [],
   "source": [
    "import random\n",
    "\n",
    "def length_total(length, lower, upper):\n",
    "    lista=[]\n",
    "    for i in range(length):\n",
    "        lista.append(random.randint(lower,upper))\n",
    "    return lista"
   ]
  },
  {
   "cell_type": "code",
   "execution_count": 19,
   "metadata": {},
   "outputs": [
    {
     "name": "stdout",
     "output_type": "stream",
     "text": [
      "39 13 13\n"
     ]
    }
   ],
   "source": [
    "lista2 = length_total(1000,0,42)\n",
    "print(lista2[0],lista2[500],lista2[-1])"
   ]
  },
  {
   "cell_type": "code",
   "execution_count": 20,
   "metadata": {},
   "outputs": [
    {
     "name": "stdout",
     "output_type": "stream",
     "text": [
      "Found number 42 in position 6\n",
      "finished search\n"
     ]
    }
   ],
   "source": [
    "e=True\n",
    "i=0\n",
    "while e:\n",
    "    if lista2[i]==42:\n",
    "        print(f\"Found number 42 in position {i}\")\n",
    "        e=False\n",
    "    i=i+1\n",
    "        \n",
    "print(\"finished search\" )  "
   ]
  },
  {
   "cell_type": "raw",
   "metadata": {},
   "source": [
    "# Otra manera de hacerlo con una sola variable"
   ]
  },
  {
   "cell_type": "code",
   "execution_count": 22,
   "metadata": {},
   "outputs": [
    {
     "name": "stdout",
     "output_type": "stream",
     "text": [
      "Found number 42 in position 6\n",
      "finished search\n"
     ]
    }
   ],
   "source": [
    "i=0\n",
    "while i>=0:\n",
    "    if lista2[i]==42:\n",
    "        print(f\"Found number 42 in position {i}\")\n",
    "        i=-5\n",
    "    i=i+1\n",
    "        \n",
    "print(\"finished search\" )  "
   ]
  },
  {
   "cell_type": "code",
   "execution_count": 36,
   "metadata": {},
   "outputs": [
    {
     "name": "stdout",
     "output_type": "stream",
     "text": [
      "Enter a integer number: 0\n",
      "Enter a integer number: 25\n",
      "[3, 6, 7, 9, 12, 14, 15, 18, 21, 24]\n"
     ]
    }
   ],
   "source": [
    "def lista1():\n",
    "    input1=int(input(\"Enter a integer number: \"))\n",
    "    input2=int(input(\"Enter a integer number: \"))\n",
    "    lista=[]\n",
    "    \n",
    "    for j in range(input1, input2+1):\n",
    "    \n",
    "        if j!=0:\n",
    "            if (j%3==0) or (j%7==0): \n",
    "                lista.append(j)\n",
    "\n",
    "    return lista\n",
    "print(lista1())"
   ]
  },
  {
   "cell_type": "code",
   "execution_count": 44,
   "metadata": {},
   "outputs": [
    {
     "name": "stdout",
     "output_type": "stream",
     "text": [
      "Enter a integer number: 0\n",
      "Enter a integer number: 30\n",
      "('lista a:  [3, 6, 9, 12, 15, 18, 21, 24, 27, 30]', 'lista b:  [7, 14, 28]')\n"
     ]
    }
   ],
   "source": [
    "def lista1():\n",
    "    input1=int(input(\"Enter a integer number: \"))\n",
    "    input2=int(input(\"Enter a integer number: \"))\n",
    "    \n",
    "    listaA=[]\n",
    "    listaB=[]\n",
    "    \n",
    "    for j in range(input1, input2+1):\n",
    "    \n",
    "        if j!=0:\n",
    "            if (j%3==0): \n",
    "                listaA.append(j)\n",
    "            \n",
    "            elif (j%7==0):\n",
    "                listaB.append(j)\n",
    "\n",
    "    return (f\"lista a:  {listaA}\"),f\"lista b:  {listaB}\"\n",
    "\n",
    "#Llamar e imprimir el resultado de la función\n",
    "print(lista1())"
   ]
  },
  {
   "cell_type": "code",
   "execution_count": null,
   "metadata": {},
   "outputs": [],
   "source": []
  }
 ],
 "metadata": {
  "kernelspec": {
   "display_name": "Python 3",
   "language": "python",
   "name": "python3"
  },
  "language_info": {
   "codemirror_mode": {
    "name": "ipython",
    "version": 3
   },
   "file_extension": ".py",
   "mimetype": "text/x-python",
   "name": "python",
   "nbconvert_exporter": "python",
   "pygments_lexer": "ipython3",
   "version": "3.8.3"
  }
 },
 "nbformat": 4,
 "nbformat_minor": 4
}
